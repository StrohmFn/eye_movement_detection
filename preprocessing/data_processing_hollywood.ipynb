{
 "cells": [
  {
   "cell_type": "code",
   "execution_count": null,
   "metadata": {},
   "outputs": [],
   "source": [
    "import csv\n",
    "import numpy as np\n",
    "import os"
   ]
  },
  {
   "cell_type": "markdown",
   "metadata": {},
   "source": [
    "This file is similar to the data_processing_gazecom.ipynb file as we precompute the windows for the hollywood dataset. The differences are due to different file format and that wie do not perform data augmentation."
   ]
  },
  {
   "cell_type": "code",
   "execution_count": null,
   "metadata": {},
   "outputs": [],
   "source": [
    "def load_data(path):\n",
    "    for root, dirs, files in os.walk(path):\n",
    "        \n",
    "        if files:\n",
    "            for file in files:\n",
    "                data_set = []\n",
    "                if file.lower().endswith('.coord'):\n",
    "                    with open(root + '/' + file) as csvfile:\n",
    "                        data = csv.reader(csvfile, delimiter=' ')\n",
    "                        data = list(list(rec) for rec in data)\n",
    "                    i = 0\n",
    "                    while i < len(data):\n",
    "                        if data[i][0] == '#':\n",
    "                            #skip unwanted information\n",
    "                            i += 1\n",
    "                        elif data[i][0] == 'gaze':\n",
    "                            #save screen resolution\n",
    "                            x_res = float(data[i][1])\n",
    "                            y_res = float(data[i][2])\n",
    "                            i += 1\n",
    "                        elif data[i][0] == 'geometry':\n",
    "                            #skip unwanted information\n",
    "                            i += 1\n",
    "                        else:\n",
    "                            norm_x = float(data[i][1])/x_res\n",
    "                            norm_y = float(data[i][2])/y_res\n",
    "                            data_set.append([norm_x,norm_y])\n",
    "                            #skip three samples to downsample from 1000hz to 250hz\n",
    "                            i += 4\n",
    "\n",
    "                    samples = process_data(data_set, window_size=251)\n",
    "                    samples = np.asarray(samples)\n",
    "                    np.save('/bigpool/strohmfn/hollywood_processed/' + file + \".npy\", samples)\n",
    "    return data_set"
   ]
  },
  {
   "cell_type": "code",
   "execution_count": null,
   "metadata": {},
   "outputs": [],
   "source": [
    "def create_training_sample(data_set, window_size, center_index):\n",
    "    sample = []\n",
    "    for i in range(center_index-int(window_size/2), center_index+int(window_size/2)+1):\n",
    "        d = data_set[i][0:2]\n",
    "        sample = sample + [d]\n",
    "    return sample"
   ]
  },
  {
   "cell_type": "code",
   "execution_count": null,
   "metadata": {},
   "outputs": [],
   "source": [
    "def process_data(data_set, window_size):\n",
    "    samples = []\n",
    "\n",
    "    for i in range(int(window_size/2), len(data_set)-int(window_size/2)):\n",
    "        sample = create_training_sample(data_set, window_size, i)\n",
    "        samples.append(sample)\n",
    "    return samples"
   ]
  },
  {
   "cell_type": "code",
   "execution_count": null,
   "metadata": {},
   "outputs": [],
   "source": [
    "load_data('/bigpool/strohmfn/hollywood')"
   ]
  },
  {
   "cell_type": "code",
   "execution_count": null,
   "metadata": {},
   "outputs": [],
   "source": []
  }
 ],
 "metadata": {
  "kernelspec": {
   "display_name": "Python 3",
   "language": "python",
   "name": "python3"
  },
  "language_info": {
   "codemirror_mode": {
    "name": "ipython",
    "version": 3
   },
   "file_extension": ".py",
   "mimetype": "text/x-python",
   "name": "python",
   "nbconvert_exporter": "python",
   "pygments_lexer": "ipython3",
   "version": "3.6.7"
  }
 },
 "nbformat": 4,
 "nbformat_minor": 2
}
