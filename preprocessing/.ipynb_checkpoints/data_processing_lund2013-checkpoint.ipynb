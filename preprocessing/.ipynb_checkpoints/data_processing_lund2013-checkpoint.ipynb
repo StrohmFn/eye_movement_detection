{
 "cells": [
  {
   "cell_type": "code",
   "execution_count": null,
   "metadata": {},
   "outputs": [],
   "source": [
    "import scipy.io\n",
    "import csv\n",
    "import numpy as np\n",
    "import os\n",
    "from tqdm import tqdm"
   ]
  },
  {
   "cell_type": "markdown",
   "metadata": {},
   "source": [
    "This file is similar to the data_processing_gazecom.ipynb file as we precompute the windows for the hollywood dataset. The differences are due to different file format and that wie do not perform data augmentation."
   ]
  },
  {
   "cell_type": "code",
   "execution_count": null,
   "metadata": {},
   "outputs": [],
   "source": [
    "def load_data(input_path, output_path):\n",
    "    for root, dirs, files in os.walk(input_path):\n",
    "        \n",
    "        if files:\n",
    "            for file in files:\n",
    "                data_set = []\n",
    "                if file.lower().endswith('.mat'):\n",
    "                    mat = scipy.io.loadmat(root + '/' + file)\n",
    "                    data = mat['ETdata']['pos'][0][0]\n",
    "                    x_res = mat['ETdata']['screenRes'][0][0][0][0]\n",
    "                    y_res = mat['ETdata']['screenRes'][0][0][0][1]\n",
    "                    i = 0\n",
    "                    while i < len(data):\n",
    "                        norm_x = float(data[i][3])/x_res\n",
    "                        norm_y = float(data[i][4])/y_res\n",
    "                        data_set.append([norm_x,norm_y,data[i][5]])\n",
    "                        #skip one sample to downsample from 500hz to 250hz\n",
    "                        i += 2\n",
    "\n",
    "                    samples, labels = process_data(data_set, window_size=251)\n",
    "                    samples = np.asarray(samples)\n",
    "                    labels = np.asarray(labels)\n",
    "                    \n",
    "                    one_hot_labels = []\n",
    "                    for label in labels:\n",
    "                        one_hot = one_hot_encode(int(label[0]))\n",
    "                        one_hot_labels.append(one_hot)\n",
    "                    np.save(output_path + file + \"_data.npy\", samples)\n",
    "                    np.save(output_path + file + \"_labels.npy\", one_hot_labels)\n",
    "    return data_set"
   ]
  },
  {
   "cell_type": "code",
   "execution_count": null,
   "metadata": {},
   "outputs": [],
   "source": [
    "def one_hot_encode(label):\n",
    "    encoded_label = np.zeros(4)\n",
    "    encoded_label[label] = 1\n",
    "    return encoded_label"
   ]
  },
  {
   "cell_type": "code",
   "execution_count": null,
   "metadata": {},
   "outputs": [],
   "source": [
    "def create_training_sample(data_set, window_size, center_index):\n",
    "    sample = []\n",
    "    for i in range(center_index-int(window_size/2), center_index+int(window_size/2)+1):\n",
    "        d = data_set[i][0:2]\n",
    "        sample = sample + [d]\n",
    "    return sample"
   ]
  },
  {
   "cell_type": "code",
   "execution_count": null,
   "metadata": {},
   "outputs": [],
   "source": [
    "def map_label(label):\n",
    "    if int(label) == 1:\n",
    "        #fixation\n",
    "        return 0\n",
    "    elif int(label) == 2:\n",
    "        #saccade\n",
    "        return 1\n",
    "    elif int(label) == 3:\n",
    "        #PSO -> unwanted\n",
    "        return -1\n",
    "    elif int(label) == 4:\n",
    "        #smooth pursuit\n",
    "        return 2\n",
    "    elif int(label) == 5:\n",
    "        #Blink -> unwanted\n",
    "        return -1\n",
    "    elif int(label) == 6:\n",
    "        #Undefined -> unwanted\n",
    "        return -1\n",
    "    return -1"
   ]
  },
  {
   "cell_type": "code",
   "execution_count": null,
   "metadata": {},
   "outputs": [],
   "source": [
    "def process_data(data_set, window_size):\n",
    "    samples = []\n",
    "    labels = []\n",
    "    \n",
    "    for i in tqdm(range(int(window_size/2), len(data_set)-int(window_size/2))):\n",
    "        label = map_label(data_set[i][2])\n",
    "        if label != -1:\n",
    "            sample = create_training_sample(data_set, window_size, i)\n",
    "            samples.append(sample)\n",
    "            labels.append([label])\n",
    "    return samples, labels"
   ]
  },
  {
   "cell_type": "code",
   "execution_count": null,
   "metadata": {},
   "outputs": [],
   "source": [
    "load_data('input_path', 'output_path')"
   ]
  },
  {
   "cell_type": "code",
   "execution_count": null,
   "metadata": {},
   "outputs": [],
   "source": []
  }
 ],
 "metadata": {
  "kernelspec": {
   "display_name": "Python 3",
   "language": "python",
   "name": "python3"
  },
  "language_info": {
   "codemirror_mode": {
    "name": "ipython",
    "version": 3
   },
   "file_extension": ".py",
   "mimetype": "text/x-python",
   "name": "python",
   "nbconvert_exporter": "python",
   "pygments_lexer": "ipython3",
   "version": "3.6.7"
  }
 },
 "nbformat": 4,
 "nbformat_minor": 2
}
