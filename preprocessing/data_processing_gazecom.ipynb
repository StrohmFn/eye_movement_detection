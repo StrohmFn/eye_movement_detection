{
 "cells": [
  {
   "cell_type": "code",
   "execution_count": null,
   "metadata": {},
   "outputs": [],
   "source": [
    "from scipy.io import arff\n",
    "import numpy as np\n",
    "import os\n",
    "from tqdm import tqdm\n",
    "import math"
   ]
  },
  {
   "cell_type": "markdown",
   "metadata": {},
   "source": [
    "In this notebook we are preprocessing the windows of the gaze data so that it can be directly passed trought the network. We also define multiple functions for data augmentation like mirroring, reversing and rotating. The data augmentation via rotating is not used for the final results presented in the paper as it had an negative impact on the performance. The gaze data of the GazeCom dataset is available in an arff format. We load and process one arff file at a time and save the processed and augmented data to disk as a numpy file together with a separate file containing the labels."
   ]
  },
  {
   "cell_type": "code",
   "execution_count": null,
   "metadata": {},
   "outputs": [],
   "source": [
    "def load_data(path):\n",
    "    for root, dirs, files in os.walk(path):\n",
    "        data_set = []\n",
    "        \n",
    "        if files:\n",
    "            for file in files:\n",
    "                if file.lower().endswith('.arff'):\n",
    "                    data, meta = arff.loadarff(root + \"/\" + file)\n",
    "                    for d in data:\n",
    "                        data_set.append([d[1],d[2],d[6]])\n",
    "            \n",
    "            samples, labels = process_data(data_set, window_size=251)\n",
    "\n",
    "            samples = np.asarray(samples)\n",
    "            labels = np.asarray(labels)\n",
    "\n",
    "            one_hot_labels = []\n",
    "            for label in labels:\n",
    "                one_hot = one_hot_encode(int(label[0]))\n",
    "                one_hot_labels.append(one_hot)\n",
    "            \n",
    "            name = os.path.basename(root)\n",
    "            os.makedirs(\"/bigpool/strohmfn/gazecom_processed/train/\" + name + \"/\")\n",
    "            np.save(\"/bigpool/strohmfn/gazecom_processed/train/\" + name + \"/\" + name + \".npy\", samples)\n",
    "            np.save(\"/bigpool/strohmfn/gazecom_processed/train/\" + name + \"/\" + name + \"_labels.npy\", one_hot_labels)\n",
    "            "
   ]
  },
  {
   "cell_type": "code",
   "execution_count": null,
   "metadata": {},
   "outputs": [],
   "source": [
    "def one_hot_encode(label):\n",
    "    encoded_label = np.zeros(4)\n",
    "    encoded_label[label-1] = 1\n",
    "    return encoded_label"
   ]
  },
  {
   "cell_type": "code",
   "execution_count": null,
   "metadata": {},
   "outputs": [],
   "source": [
    "def create_training_sample(data_set, window_size, center_index):\n",
    "    sample = []\n",
    "    for i in range(center_index-int(window_size/2), center_index+int(window_size/2)+1):\n",
    "        d = data_set[i][0:2]\n",
    "        d[0] = d[0]/1280\n",
    "        d[1] = d[1]/720\n",
    "        sample = sample + [d]\n",
    "    return sample"
   ]
  },
  {
   "cell_type": "code",
   "execution_count": null,
   "metadata": {},
   "outputs": [],
   "source": [
    "def create_training_sample_mirrored_X(data_set, window_size, center_index):\n",
    "    sample = []\n",
    "    for i in range(center_index-int(window_size/2), center_index+int(window_size/2)+1):\n",
    "        d = data_set[i][0:2]\n",
    "        d[0] = 1-(d[0]/1280)\n",
    "        d[1] = d[1]/720\n",
    "        sample = sample + [d]\n",
    "    return sample"
   ]
  },
  {
   "cell_type": "code",
   "execution_count": null,
   "metadata": {},
   "outputs": [],
   "source": [
    "def create_training_sample_mirrored_Y(data_set, window_size, center_index):\n",
    "    sample = []\n",
    "    for i in range(center_index-int(window_size/2), center_index+int(window_size/2)+1):\n",
    "        d = data_set[i][0:2]\n",
    "        d[0] = d[0]/1280\n",
    "        d[1] = 1-(d[1]/720)\n",
    "        sample = sample + [d]\n",
    "    return sample"
   ]
  },
  {
   "cell_type": "code",
   "execution_count": null,
   "metadata": {},
   "outputs": [],
   "source": [
    "def create_training_sample_mirrored_XY(data_set, window_size, center_index):\n",
    "    sample = []\n",
    "    for i in range(center_index-int(window_size/2), center_index+int(window_size/2)+1):\n",
    "        d = data_set[i][0:2]\n",
    "        d[0] = 1-(d[0]/1280)\n",
    "        d[1] = 1-(d[1]/720)\n",
    "        sample = sample + [d]\n",
    "    return sample"
   ]
  },
  {
   "cell_type": "code",
   "execution_count": null,
   "metadata": {},
   "outputs": [],
   "source": [
    "def create_training_sample_reversed(data_set, window_size, center_index):\n",
    "    sample = []\n",
    "    for i in range(center_index+int(window_size/2), center_index-int(window_size/2)-1, -1):\n",
    "        d = data_set[i][0:2]\n",
    "        d[0] = d[0]/1280\n",
    "        d[1] = d[1]/720\n",
    "        sample = sample + [d]\n",
    "    return sample"
   ]
  },
  {
   "cell_type": "code",
   "execution_count": null,
   "metadata": {},
   "outputs": [],
   "source": [
    "def create_training_sample_reversed_mirrored_X(data_set, window_size, center_index):\n",
    "    sample = []\n",
    "    for i in range(center_index+int(window_size/2), center_index-int(window_size/2)-1, -1):\n",
    "        d = data_set[i][0:2]\n",
    "        d[0] = 1-(d[0]/1280)\n",
    "        d[1] = d[1]/720\n",
    "        sample = sample + [d]\n",
    "    return sample"
   ]
  },
  {
   "cell_type": "code",
   "execution_count": null,
   "metadata": {},
   "outputs": [],
   "source": [
    "def create_training_sample_reversed_mirrored_Y(data_set, window_size, center_index):\n",
    "    sample = []\n",
    "    for i in range(center_index+int(window_size/2), center_index-int(window_size/2)-1, -1):\n",
    "        d = data_set[i][0:2]\n",
    "        d[0] = d[0]/1280\n",
    "        d[1] = 1-(d[1]/720)\n",
    "        sample = sample + [d]\n",
    "    return sample"
   ]
  },
  {
   "cell_type": "code",
   "execution_count": null,
   "metadata": {},
   "outputs": [],
   "source": [
    "def rotate_around_point(x, y, radians, origin=(0, 0)):\n",
    "    #Rotate a point around a given point.\n",
    "    offset_x, offset_y = origin\n",
    "    adjusted_x = (x - offset_x)\n",
    "    adjusted_y = (y - offset_y)\n",
    "    cos_rad = math.cos(radians)\n",
    "    sin_rad = math.sin(radians)\n",
    "    qx = offset_x + cos_rad * adjusted_x + sin_rad * adjusted_y\n",
    "    qy = offset_y + -sin_rad * adjusted_x + cos_rad * adjusted_y\n",
    "    return qx, qy"
   ]
  },
  {
   "cell_type": "code",
   "execution_count": null,
   "metadata": {},
   "outputs": [],
   "source": [
    "def create_training_sample_rotated(data_set, window_size, center_index, angle):\n",
    "    sample = []\n",
    "    for i in range(center_index-int(window_size/2), center_index+int(window_size/2)+1):\n",
    "        d = data_set[i][0:2]\n",
    "        \n",
    "        angle = math.radians(angle)\n",
    "        x, y = rotate_around_point(d[0], d[1], angle, (640,360))\n",
    "        x = x/1280\n",
    "        y = y/720\n",
    "        if x < 0 or x > 1 or y < 0 or y > 1:\n",
    "            return None, None\n",
    "        sample = sample + [d]\n",
    "    return sample"
   ]
  },
  {
   "cell_type": "code",
   "execution_count": null,
   "metadata": {},
   "outputs": [],
   "source": [
    "def process_data(data_set, window_size):\n",
    "    samples = []\n",
    "    labels = []\n",
    "    \n",
    "    for i in tqdm(range(int(window_size/2), len(data_set)-int(window_size/2))):\n",
    "        label = data_set[i][2]\n",
    "        \n",
    "        sample = create_training_sample(data_set, window_size, i)\n",
    "        samples.append(sample)\n",
    "        labels.append([label])\n",
    "        \n",
    "        if label == 2 or label == 3:\n",
    "            sample = create_training_sample_mirrored_X(data_set, window_size, i)\n",
    "            samples.append(sample)\n",
    "            labels.append([label])\n",
    "            \n",
    "            sample = create_training_sample_mirrored_Y(data_set, window_size, i)\n",
    "            samples.append(sample)\n",
    "            labels.append([label])\n",
    "            \n",
    "            sample = create_training_sample_mirrored_XY(data_set, window_size, i)\n",
    "            samples.append(sample)\n",
    "            labels.append([label])\n",
    "            \n",
    "            sample = create_training_sample_reversed(data_set, window_size, i)\n",
    "            samples.append(sample)\n",
    "            labels.append([label])\n",
    "            \n",
    "            sample = create_training_sample_reversed_mirrored_Y(data_set, window_size, i)\n",
    "            samples.append(sample)\n",
    "            labels.append([label])\n",
    "            \n",
    "            sample = create_training_sample_reversed_mirrored_X(data_set, window_size, i)\n",
    "            samples.append(sample)\n",
    "            labels.append([label])\n",
    "        \n",
    "    return samples, labels"
   ]
  },
  {
   "cell_type": "code",
   "execution_count": null,
   "metadata": {},
   "outputs": [],
   "source": [
    "load_data('/bigpool/strohmfn/gazecom/ground_truth/')"
   ]
  },
  {
   "cell_type": "code",
   "execution_count": null,
   "metadata": {},
   "outputs": [],
   "source": []
  }
 ],
 "metadata": {
  "kernelspec": {
   "display_name": "Python 3",
   "language": "python",
   "name": "python3"
  },
  "language_info": {
   "codemirror_mode": {
    "name": "ipython",
    "version": 3
   },
   "file_extension": ".py",
   "mimetype": "text/x-python",
   "name": "python",
   "nbconvert_exporter": "python",
   "pygments_lexer": "ipython3",
   "version": "3.6.7"
  }
 },
 "nbformat": 4,
 "nbformat_minor": 2
}
